{
 "cells": [
  {
   "cell_type": "markdown",
   "metadata": {},
   "source": [
    "# Setup"
   ]
  },
  {
   "cell_type": "code",
   "execution_count": 1,
   "metadata": {},
   "outputs": [],
   "source": [
    "%matplotlib inline"
   ]
  },
  {
   "cell_type": "code",
   "execution_count": 2,
   "metadata": {},
   "outputs": [
    {
     "name": "stderr",
     "output_type": "stream",
     "text": [
      "/usr/local/lib/python2.7/site-packages/matplotlib/cbook/deprecation.py:106: MatplotlibDeprecationWarning: The mpl_toolkits.axes_grid module was deprecated in version 2.1. Use mpl_toolkits.axes_grid1 and mpl_toolkits.axisartist provies the same functionality instead.\n",
      "  warnings.warn(message, mplDeprecation, stacklevel=1)\n"
     ]
    }
   ],
   "source": [
    "import phoebe\n",
    "from phoebe import u,c\n",
    "\n",
    "import numpy as np\n",
    "import matplotlib.pyplot as plt"
   ]
  },
  {
   "cell_type": "code",
   "execution_count": 3,
   "metadata": {},
   "outputs": [],
   "source": [
    "logger = phoebe.logger(clevel='WARNING')"
   ]
  },
  {
   "cell_type": "code",
   "execution_count": 4,
   "metadata": {},
   "outputs": [],
   "source": [
    "b = phoebe.default_binary()"
   ]
  },
  {
   "cell_type": "markdown",
   "metadata": {},
   "source": [
    "# Atmospheres"
   ]
  },
  {
   "cell_type": "markdown",
   "metadata": {},
   "source": [
    "Let's start by adding a dataset which probes only the secondary eclipse (as eclipses are where we will see the most dramatic deviations).  We'll specify the passband of the observation to be Johnson:V."
   ]
  },
  {
   "cell_type": "code",
   "execution_count": 5,
   "metadata": {},
   "outputs": [
    {
     "data": {
      "text/plain": [
       "<ParameterSet: 15 parameters | contexts: compute, dataset>"
      ]
     },
     "execution_count": 5,
     "metadata": {},
     "output_type": "execute_result"
    }
   ],
   "source": [
    "b.add_dataset('lc', times=np.linspace(0.3,0.7,101), dataset='lcV',passband='Johnson:V')"
   ]
  },
  {
   "cell_type": "markdown",
   "metadata": {},
   "source": [
    "To isolate only the effect of changing the atmosphere, we will temporarily turn off limb-darkening and gravity brightening. We can do this simultaneously for both stars using set_value_all.  Note that upon changing the limb-darkening function, PHOEBE might complain that the limb-darkening coefficients are not valid - this isn't a problem, it's just PHOEBE running checks before we've managed to set the coefficients."
   ]
  },
  {
   "cell_type": "code",
   "execution_count": 6,
   "metadata": {},
   "outputs": [
    {
     "name": "stderr",
     "output_type": "stream",
     "text": [
      "Mon, 04 Jun 2018 10:07 PARAMETERS   WARNING ld_coeffs='[0.5 0.5]' inconsistent with ld_func='linear'\n",
      "Mon, 04 Jun 2018 10:07 PARAMETERS   WARNING ld_coeffs='[0.5 0.5]' inconsistent with ld_func='linear'\n",
      "Mon, 04 Jun 2018 10:08 PARAMETERS   WARNING ld_coeffs='[0.5 0.5]' inconsistent with ld_func='linear'\n",
      "Mon, 04 Jun 2018 10:08 PARAMETERS   WARNING ld_coeffs='[0.5 0.5]' inconsistent with ld_func='linear'\n"
     ]
    }
   ],
   "source": [
    "b.set_value_all('ld_func','linear')\n",
    "b.set_value_all('ld_coeffs',[0.])"
   ]
  },
  {
   "cell_type": "markdown",
   "metadata": {},
   "source": [
    "In order to really see the differences between using model atmospheres and black bodies, we need to make the two starts different (in this case, we will change only the temperature of the secondary star) and then compute light curves using the two different atmosphere options.  Let's start with the default Castelli & Kurucz (2004) aka 'ck2004' atmospheres."
   ]
  },
  {
   "cell_type": "code",
   "execution_count": 7,
   "metadata": {},
   "outputs": [
    {
     "data": {
      "text/plain": [
       "<ParameterSet: 2 parameters | qualifiers: fluxes, times>"
      ]
     },
     "execution_count": 7,
     "metadata": {},
     "output_type": "execute_result"
    }
   ],
   "source": [
    "b['teff@secondary']=4000*u.K\n",
    "b.run_compute(model='ck2004')"
   ]
  },
  {
   "cell_type": "markdown",
   "metadata": {},
   "source": [
    "Now let's switch to black body atmospheres and recompute"
   ]
  },
  {
   "cell_type": "code",
   "execution_count": 8,
   "metadata": {},
   "outputs": [
    {
     "data": {
      "text/plain": [
       "<ParameterSet: 2 parameters | qualifiers: fluxes, times>"
      ]
     },
     "execution_count": 8,
     "metadata": {},
     "output_type": "execute_result"
    }
   ],
   "source": [
    "b.set_value_all('atm','blackbody')\n",
    "b.run_compute(model='blackbody')"
   ]
  },
  {
   "cell_type": "markdown",
   "metadata": {},
   "source": [
    "Now, let's plot the two eclipses to see the differences.  Note that because the fluxes are normalised for the primary star (the only star visible during secondary eclipse), the eclipse bottoms are the same while the out of eclipse values are very different."
   ]
  },
  {
   "cell_type": "code",
   "execution_count": 9,
   "metadata": {},
   "outputs": [
    {
     "data": {
      "image/png": "[encoded data removed]",
      "text/plain": [
       "<matplotlib.figure.Figure at 0x1082d1810>"
      ]
     },
     "metadata": {},
     "output_type": "display_data"
    }
   ],
   "source": [
    "axs, artists = b.plot(model='ck2004',color='r')\n",
    "axs, artists = b.plot(model='blackbody',color='k')"
   ]
  },
  {
   "cell_type": "markdown",
   "metadata": {},
   "source": [
    "# Limb-darkening"
   ]
  },
  {
   "cell_type": "markdown",
   "metadata": {},
   "source": [
    "Let's investigate different limb-darkening parameterisations using binary we've just created. First, we need to turn the atmospheres back to ck2004 (otherwise PHOEBE's native 'interp' limb-darkening won't be available)"
   ]
  },
  {
   "cell_type": "code",
   "execution_count": 10,
   "metadata": {},
   "outputs": [],
   "source": [
    "b.set_value_all('atm','ck2004')"
   ]
  },
  {
   "cell_type": "markdown",
   "metadata": {},
   "source": [
    "We are going to compare the results derived using PHOEBE's interpolated limb-darkening to those derived using a couple of different limb-darkening parameterisations.  Let's start with 'interp'"
   ]
  },
  {
   "cell_type": "code",
   "execution_count": 11,
   "metadata": {},
   "outputs": [
    {
     "data": {
      "text/plain": [
       "<ParameterSet: 2 parameters | qualifiers: fluxes, times>"
      ]
     },
     "execution_count": 11,
     "metadata": {},
     "output_type": "execute_result"
    }
   ],
   "source": [
    "b.set_value_all('ld_func','interp')\n",
    "b.run_compute(model='interp')"
   ]
  },
  {
   "cell_type": "markdown",
   "metadata": {},
   "source": [
    "To compare with other parameterisations, we need to find the corresponding values in a table.  The values for many passbands calculated by Claret & Bloemen (2011) are available via Vizier [here](http://vizier.cfa.harvard.edu/viz-bin/VizieR?-source=J/A+A/529/A75) (be careful to choose the right filter - Johnson V not Strömgren v)."
   ]
  },
  {
   "cell_type": "code",
   "execution_count": 12,
   "metadata": {},
   "outputs": [
    {
     "data": {
      "text/plain": [
       "<ParameterSet: 2 parameters | qualifiers: fluxes, times>"
      ]
     },
     "execution_count": 12,
     "metadata": {},
     "output_type": "execute_result"
    }
   ],
   "source": [
    "b.set_value_all('ld_func','linear')\n",
    "b.set_value('ld_coeffs@primary',[0.6])\n",
    "b.set_value('ld_coeffs@secondary',[0.7])\n",
    "b.run_compute(model='linear')"
   ]
  },
  {
   "cell_type": "code",
   "execution_count": 13,
   "metadata": {},
   "outputs": [
    {
     "name": "stderr",
     "output_type": "stream",
     "text": [
      "Mon, 04 Jun 2018 10:09 PARAMETERS   WARNING ld_coeffs='[0.6]' inconsistent with ld_func='quadratic'\n",
      "Mon, 04 Jun 2018 10:09 PARAMETERS   WARNING ld_coeffs='[0.6]' inconsistent with ld_func='quadratic'\n",
      "Mon, 04 Jun 2018 10:09 PARAMETERS   WARNING ld_coeffs='[0.7]' inconsistent with ld_func='quadratic'\n"
     ]
    },
    {
     "data": {
      "text/plain": [
       "<ParameterSet: 2 parameters | qualifiers: fluxes, times>"
      ]
     },
     "execution_count": 13,
     "metadata": {},
     "output_type": "execute_result"
    }
   ],
   "source": [
    "b.set_value_all('ld_func','quadratic')\n",
    "b.set_value('ld_coeffs@primary',[0.4,0.3])\n",
    "b.set_value('ld_coeffs@secondary',[0.6,0.15])\n",
    "b.run_compute(model='quadratic')"
   ]
  },
  {
   "cell_type": "markdown",
   "metadata": {},
   "source": [
    "Again, let's plot everything to see the differences.  We can include the eclipse calculated in the first part as an example of no limb-darkening too."
   ]
  },
  {
   "cell_type": "code",
   "execution_count": 14,
   "metadata": {},
   "outputs": [
    {
     "data": {
      "image/png": "[encoded data removed]",
      "text/plain": [
       "<matplotlib.figure.Figure at 0x10f66fa90>"
      ]
     },
     "metadata": {},
     "output_type": "display_data"
    }
   ],
   "source": [
    "axs, artists = b.plot(model='ck2004',color='r')\n",
    "axs, artists = b.plot(model='linear',color='g')\n",
    "axs, artists = b.plot(model='quadratic',color='b')\n",
    "axs, artists = b.plot(model='interp',color='k')"
   ]
  },
  {
   "cell_type": "markdown",
   "metadata": {},
   "source": [
    "Clearly, in this case, the linear parameterisation deviates from the curves produced using 'interp' and the quadratic parameterisation (which agree reasonably well), while the curve which ignores limb-darkening is some way off!"
   ]
  },
  {
   "cell_type": "markdown",
   "metadata": {},
   "source": [
    "# Exercise"
   ]
  },
  {
   "cell_type": "markdown",
   "metadata": {},
   "source": [
    "Try adding a dataset in a different passband to see how the difference between model atmospheres and black bodies is wavelength dependent"
   ]
  },
  {
   "cell_type": "code",
   "execution_count": null,
   "metadata": {},
   "outputs": [],
   "source": []
  },
  {
   "cell_type": "markdown",
   "metadata": {},
   "source": [
    "For the next part, you might find the following convenience function useful.  It returns log g (in cgs units) for a given stellar and mass (both in solar units).  Note that the actual (mean) value for the stars in our 1 day period binary are likely to be a little larger, but this function should serve as a reasonable approximation for looking up tabulated limb-darkening parameters."
   ]
  },
  {
   "cell_type": "code",
   "execution_count": 15,
   "metadata": {},
   "outputs": [],
   "source": [
    "def logg(R,M=1.):\n",
    "        g=c.G*M*u.Msun/((R*u.Rsun)**2)\n",
    "        logg=np.log10(g.to(u.cm/u.s**2).value)\n",
    "        return logg"
   ]
  },
  {
   "cell_type": "markdown",
   "metadata": {},
   "source": [
    "For example, to find the log g of a 1.5 solar mass star with a radius of two solar radii."
   ]
  },
  {
   "cell_type": "code",
   "execution_count": 16,
   "metadata": {},
   "outputs": [
    {
     "data": {
      "text/plain": [
       "4.012098895030852"
      ]
     },
     "execution_count": 16,
     "metadata": {},
     "output_type": "execute_result"
    }
   ],
   "source": [
    "logg(2,1.5)"
   ]
  },
  {
   "cell_type": "markdown",
   "metadata": {},
   "source": [
    "Vary all the stellar parameters - temperature, radius, metallicity (the 'abun' parameter) and mass (it may be convenient to flip a constraint in order to vary the masses) - to explore the parameter space covered by the ck2004 atmosphere models (and interpolated limb-darkening).  You may also wish to change the gravity brightening/darkening coefficients depending on your particular parameters - you can use those suggested by PHOEBE or the tabulated values from, for example, [Claret & Bloemen (2011)](http://vizier.cfa.harvard.edu/viz-bin/VizieR?-source=J/A+A/529/A75) again.  If you compare your lightcurves using 'interp' limb-darkening to lightcurves using other parameterisation, remembers to update the coefficients every time you change the stellar parameters!"
   ]
  },
  {
   "cell_type": "code",
   "execution_count": null,
   "metadata": {},
   "outputs": [],
   "source": []
  }
 ],
 "metadata": {
  "kernelspec": {
   "display_name": "Python 2",
   "language": "python",
   "name": "python2"
  },
  "language_info": {
   "codemirror_mode": {
    "name": "ipython",
    "version": 2
   },
   "file_extension": ".py",
   "mimetype": "text/x-python",
   "name": "python",
   "nbconvert_exporter": "python",
   "pygments_lexer": "ipython2",
   "version": "2.7.14"
  }
 },
 "nbformat": 4,
 "nbformat_minor": 2
}
