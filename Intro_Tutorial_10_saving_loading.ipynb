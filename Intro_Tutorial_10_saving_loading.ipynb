{
 "cells": [
  {
   "cell_type": "markdown",
   "metadata": {},
   "source": [
    "# Setup"
   ]
  },
  {
   "cell_type": "code",
   "execution_count": 2,
   "metadata": {},
   "outputs": [],
   "source": [
    "import phoebe\n",
    "from phoebe import u,c\n",
    "\n",
    "import numpy as np\n",
    "import matplotlib.pyplot as plt"
   ]
  },
  {
   "cell_type": "code",
   "execution_count": 3,
   "metadata": {},
   "outputs": [],
   "source": [
    "logger = phoebe.logger(clevel='WARNING')"
   ]
  },
  {
   "cell_type": "code",
   "execution_count": 4,
   "metadata": {},
   "outputs": [],
   "source": [
    "b = phoebe.default_binary()"
   ]
  },
  {
   "cell_type": "markdown",
   "metadata": {},
   "source": [
    "# Saving a Bundle"
   ]
  },
  {
   "cell_type": "markdown",
   "metadata": {},
   "source": [
    "Saving a bundle to a file is as simple as calling the save method and passing a filename."
   ]
  },
  {
   "cell_type": "code",
   "execution_count": 5,
   "metadata": {},
   "outputs": [
    {
     "data": {
      "text/plain": [
       "'test.phoebe'"
      ]
     },
     "execution_count": 5,
     "metadata": {},
     "output_type": "execute_result"
    }
   ],
   "source": [
    "b.save('test.phoebe')"
   ]
  },
  {
   "cell_type": "markdown",
   "metadata": {},
   "source": [
    "We can now inspect the contents of the created file.\n",
    "\n",
    "This file is in the JSON-format and is simply a list of dictionaries - where each dictionary represents the attributes of a single Parameter.\n",
    "\n",
    "You could edit this file in a text-editor - but do be careful if changing any of the tags. For example: if you want to change the component tag of one of your stars, make sure to change ALL instances of the component tag to match."
   ]
  },
  {
   "cell_type": "code",
   "execution_count": 8,
   "metadata": {},
   "outputs": [
    {
     "name": "stdout",
     "output_type": "stream",
     "text": [
      "[\r\n",
      "{\r\n",
      "\"Class\": \"FloatParameter\",\r\n",
      "\"context\": \"system\",\r\n",
      "\"copy_for\": false,\r\n",
      "\"default_unit\": \"d\",\r\n",
      "\"description\": \"Time at which all values are provided\",\r\n",
      "\"limits\": [\r\n",
      "null,\r\n",
      "null\r\n",
      "],\r\n",
      "\"qualifier\": \"t0\",\r\n",
      "\"value\": 0.0\r\n",
      "},\r\n",
      "{\r\n",
      "\"Class\": \"FloatParameter\",\r\n",
      "\"context\": \"system\",\r\n",
      "\"copy_for\": false,\r\n",
      "\"default_unit\": \"deg\",\r\n",
      "\"description\": \"Right ascension\",\r\n",
      "\"limits\": [\r\n",
      "null,\r\n",
      "null\r\n",
      "],\r\n",
      "\"qualifier\": \"ra\",\r\n",
      "\"value\": 0.0\r\n",
      "},\r\n",
      "{\r\n",
      "\"Class\": \"FloatParameter\",\r\n",
      "\"context\": \"system\",\r\n"
     ]
    }
   ],
   "source": [
    "!head -30 test.phoebe"
   ]
  },
  {
   "cell_type": "markdown",
   "metadata": {},
   "source": [
    "# Loading a Bundle"
   ]
  },
  {
   "cell_type": "markdown",
   "metadata": {},
   "source": [
    "To reload a Bundle from a file, we'll use phoebe.load instead of default_binary"
   ]
  },
  {
   "cell_type": "code",
   "execution_count": 9,
   "metadata": {},
   "outputs": [],
   "source": [
    "b = phoebe.load('test.phoebe')"
   ]
  },
  {
   "cell_type": "markdown",
   "metadata": {},
   "source": [
    "# Exporting to PHOEBE Legacy"
   ]
  },
  {
   "cell_type": "markdown",
   "metadata": {},
   "source": [
    "PHOEBE also supports exporting the the file format required by other backends - including PHOEBE legacy.  Note that not all Parameters can directly be translated and not all physics in PHOEBE 2 is supported by legacy."
   ]
  },
  {
   "cell_type": "code",
   "execution_count": 10,
   "metadata": {},
   "outputs": [
    {
     "name": "stderr",
     "output_type": "stream",
     "text": [
      "Thu, 12 Apr 2018 13:33 IO           WARNING rpole has no phoebe 1 corollary\n",
      "Thu, 12 Apr 2018 13:33 IO           WARNING freq has no phoebe 1 corollary\n",
      "Thu, 12 Apr 2018 13:33 IO           WARNING irrad_frac_lost_bol has no phoebe 1 corollary\n",
      "Thu, 12 Apr 2018 13:33 IO           WARNING ld_func_bol has no phoebe 1 corollary\n",
      "Thu, 12 Apr 2018 13:33 IO           WARNING mass has no phoebe 1 corollary\n",
      "Thu, 12 Apr 2018 13:33 IO           WARNING rpole has no phoebe 1 corollary\n",
      "Thu, 12 Apr 2018 13:33 IO           WARNING freq has no phoebe 1 corollary\n",
      "Thu, 12 Apr 2018 13:33 IO           WARNING irrad_frac_lost_bol has no phoebe 1 corollary\n",
      "Thu, 12 Apr 2018 13:33 IO           WARNING ld_func_bol has no phoebe 1 corollary\n",
      "Thu, 12 Apr 2018 13:33 IO           WARNING mass has no phoebe 1 corollary\n",
      "Thu, 12 Apr 2018 13:33 IO           WARNING freq has no phoebe 1 corollary\n",
      "Thu, 12 Apr 2018 13:33 IO           WARNING t0_perpass has no phoebe 1 corollary\n",
      "Thu, 12 Apr 2018 13:33 IO           WARNING t0_supconj has no phoebe 1 corollary\n",
      "Thu, 12 Apr 2018 13:33 IO           WARNING mean_anom has no phoebe 1 corollary\n",
      "Thu, 12 Apr 2018 13:33 IO           WARNING phshift has no phoebe 1 corollary\n",
      "Thu, 12 Apr 2018 13:33 IO           WARNING long_an has no phoebe 1 corollary\n",
      "Thu, 12 Apr 2018 13:33 IO           WARNING asini has no phoebe 1 corollary\n",
      "Thu, 12 Apr 2018 13:33 IO           WARNING ecosw has no phoebe 1 corollary\n",
      "Thu, 12 Apr 2018 13:33 IO           WARNING esinw has no phoebe 1 corollary\n",
      "Thu, 12 Apr 2018 13:33 IO           WARNING t0 has no phoebe 1 corollary\n",
      "Thu, 12 Apr 2018 13:33 IO           WARNING ra has no phoebe 1 corollary\n",
      "Thu, 12 Apr 2018 13:33 IO           WARNING dec has no phoebe 1 corollary\n",
      "Thu, 12 Apr 2018 13:33 IO           WARNING epoch has no phoebe 1 corollary\n",
      "Thu, 12 Apr 2018 13:33 IO           WARNING distance has no phoebe 1 corollary\n",
      "Thu, 12 Apr 2018 13:33 IO           WARNING hierarchy has no phoebe 1 corollary\n"
     ]
    }
   ],
   "source": [
    "b.export_legacy('test_legacy.phoebe')"
   ]
  },
  {
   "cell_type": "code",
   "execution_count": 11,
   "metadata": {},
   "outputs": [
    {
     "name": "stdout",
     "output_type": "stream",
     "text": [
      "# Phoebe 1 file created from phoebe 2 bundle\r\n",
      "phoebe_rvno = 0\r\n",
      "phoebe_spots_no = 0\r\n",
      "phoebe_lcno = 0\r\n",
      "phoebe_indep = \"Time (HJD)\"\r\n",
      "phoebe_el3_units = \"Flux\"\r\n",
      "phoebe_model = \"Detached binary\"\r\n",
      "phoebe_pot1.VAL = 6.28266165375\r\n",
      "phoebe_teff1.VAL = 6000.0\r\n",
      "phoebe_met1.VAL = 0.0\r\n",
      "phoebe_f1.VAL = 1.0\r\n",
      "phoebe_grb1.VAL = 0.32\r\n",
      "phoebe_alb1.VAL = 0.6\r\n",
      "phoebe_ld_xbol1 = 0.5\r\n",
      "phoebe_ld_ybol1 = 0.5\r\n",
      "phoebe_pot2.VAL = 6.28266165375\r\n",
      "phoebe_teff2.VAL = 6000.0\r\n",
      "phoebe_met2.VAL = 0.0\r\n",
      "phoebe_f2.VAL = 1.0\r\n",
      "phoebe_grb2.VAL = 0.32\r\n",
      "phoebe_alb2.VAL = 0.6\r\n",
      "phoebe_ld_xbol2 = 0.5\r\n",
      "phoebe_ld_ybol2 = 0.5\r\n",
      "phoebe_spots_units = \"Degrees\"\r\n",
      "phoebe_period.VAL = 1.0\r\n",
      "phoebe_dpdt.VAL = 0.0\r\n",
      "phoebe_perr0.VAL = 0.0\r\n",
      "phoebe_dperdt.VAL = 0.0\r\n",
      "phoebe_ecc.VAL = 0.0\r\n",
      "phoebe_hjd0.VAL = 0.0\r\n"
     ]
    }
   ],
   "source": [
    "!head -30 test_legacy.phoebe"
   ]
  },
  {
   "cell_type": "markdown",
   "metadata": {},
   "source": [
    "# Importing from PHOEBE Legacy"
   ]
  },
  {
   "cell_type": "markdown",
   "metadata": {},
   "source": [
    "Similarly, we can import a file created in PHOEBE Legacy (including in the GUI) into a PHOEBE 2 Bundle.  Here we'll use phoebe.from_legacy instead of default_binary"
   ]
  },
  {
   "cell_type": "code",
   "execution_count": null,
   "metadata": {
    "scrolled": true
   },
   "outputs": [],
   "source": [
    "b = phoebe.from_legacy('test_legacy.phoebe')"
   ]
  },
  {
   "cell_type": "markdown",
   "metadata": {},
   "source": [
    "This should work... filed an [issue](https://github.com/phoebe-project/phoebe2/issues/256) and will hopefully have fixed by the workshop: "
   ]
  },
  {
   "cell_type": "markdown",
   "metadata": {},
   "source": [
    "# Exercise"
   ]
  },
  {
   "cell_type": "markdown",
   "metadata": {},
   "source": [
    "If you have any PHOEBE legacy files, try to import them."
   ]
  },
  {
   "cell_type": "code",
   "execution_count": null,
   "metadata": {},
   "outputs": [],
   "source": []
  },
  {
   "cell_type": "markdown",
   "metadata": {},
   "source": [
    "Try to change some values in the saved Bundle and make sure you can re-load the Bundle successfully."
   ]
  },
  {
   "cell_type": "code",
   "execution_count": null,
   "metadata": {},
   "outputs": [],
   "source": []
  }
 ],
 "metadata": {
  "kernelspec": {
   "display_name": "Python 2",
   "language": "python",
   "name": "python2"
  },
  "language_info": {
   "codemirror_mode": {
    "name": "ipython",
    "version": 2
   },
   "file_extension": ".py",
   "mimetype": "text/x-python",
   "name": "python",
   "nbconvert_exporter": "python",
   "pygments_lexer": "ipython2",
   "version": "2.7.14"
  }
 },
 "nbformat": 4,
 "nbformat_minor": 2
}
