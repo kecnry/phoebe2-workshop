{
 "cells": [
  {
   "cell_type": "markdown",
   "metadata": {},
   "source": [
    "# Setup"
   ]
  },
  {
   "cell_type": "code",
   "execution_count": 2,
   "metadata": {},
   "outputs": [],
   "source": [
    "import phoebe\n",
    "from phoebe import u,c\n",
    "\n",
    "import numpy as np\n",
    "import matplotlib.pyplot as plt"
   ]
  },
  {
   "cell_type": "code",
   "execution_count": 3,
   "metadata": {},
   "outputs": [],
   "source": [
    "logger = phoebe.logger(clevel='WARNING')"
   ]
  },
  {
   "cell_type": "code",
   "execution_count": 4,
   "metadata": {},
   "outputs": [],
   "source": [
    "b = phoebe.default_binary()"
   ]
  },
  {
   "cell_type": "markdown",
   "metadata": {},
   "source": [
    "# Advanced Constraints"
   ]
  },
  {
   "cell_type": "markdown",
   "metadata": {},
   "source": [
    "In the default binary, there are a significant number of constrained Parameters."
   ]
  },
  {
   "cell_type": "code",
   "execution_count": 7,
   "metadata": {},
   "outputs": [
    {
     "name": "stdout",
     "output_type": "stream",
     "text": [
      "['ecosw', 'mean_anom', 'asini', 't0_ref', 'pot', 'period', 'mass', 't0_perpass', 'esinw', 'freq', 'incl', 'sma', 'irrad_frac_lost_bol']\n"
     ]
    }
   ],
   "source": [
    "print b.filter(context='constraint').qualifiers"
   ]
  },
  {
   "cell_type": "markdown",
   "metadata": {},
   "source": [
    "One that may standout for anyone who has used PHOEBE Legacy in the past is the 'pot' (potential) Parameter.\n",
    "\n",
    "PHOEBE 2 does not (by default) allow for setting the potential, but rather *constrains* the potential via the 'rpole' (polar radius) and other Roche values (the mass-ratio 'q', eccentricity 'ecc', synchronicity parameter 'syncpar', and semi-major axis 'sma')."
   ]
  },
  {
   "cell_type": "code",
   "execution_count": 14,
   "metadata": {},
   "outputs": [
    {
     "data": {
      "text/plain": [
       "<ConstraintParameter: {pot@primary@component} = rocherpole2potential({rpole@primary@component}, {q@binary@component}, {ecc@binary@component}, {syncpar@primary@component}, {sma@binary@component}, 1) => 6.28266165375>"
      ]
     },
     "execution_count": 14,
     "metadata": {},
     "output_type": "execute_result"
    }
   ],
   "source": [
    "b.get_parameter(qualifier='pot', component='primary', context='constraint')"
   ]
  },
  {
   "cell_type": "markdown",
   "metadata": {},
   "source": [
    "This was the chosen parameterization for PHOEBE 2 as the polar radius is more physically meaningful and to avoid degeneracies between the potential and other Roche parameters."
   ]
  },
  {
   "cell_type": "code",
   "execution_count": 16,
   "metadata": {},
   "outputs": [
    {
     "name": "stdout",
     "output_type": "stream",
     "text": [
      "pot: 6.28266165375 rpole: 1.0\n"
     ]
    }
   ],
   "source": [
    "print \"pot: {} rpole: {}\".format(\n",
    "    b.get_value(qualifier='pot', component='primary', context='component'),\n",
    "    b.get_value(qualifier='rpole', component='primary', context='component'))"
   ]
  },
  {
   "cell_type": "code",
   "execution_count": 17,
   "metadata": {},
   "outputs": [],
   "source": [
    "b.set_value(qualifier='rpole', component='primary', context='component', value=0.8)"
   ]
  },
  {
   "cell_type": "code",
   "execution_count": 18,
   "metadata": {},
   "outputs": [
    {
     "name": "stdout",
     "output_type": "stream",
     "text": [
      "pot: 7.61379908669 rpole: 0.8\n"
     ]
    }
   ],
   "source": [
    "print \"pot: {} rpole: {}\".format(\n",
    "    b.get_value(qualifier='pot', component='primary', context='component'),\n",
    "    b.get_value(qualifier='rpole', component='primary', context='component'))"
   ]
  },
  {
   "cell_type": "markdown",
   "metadata": {},
   "source": [
    "However, let's say that for some reason you wanted to instead constraint 'rpole' via 'pot'.  In most cases, you can *flip* the constraint to solve for some other Parameter (not all parameterizations are supported, especially when they result in infinite loops).\n",
    "\n",
    "This is done via the 'flip_constraint' method.  First, let's make sure our filter keywords return the correct Constraint Parameter."
   ]
  },
  {
   "cell_type": "code",
   "execution_count": 19,
   "metadata": {},
   "outputs": [
    {
     "data": {
      "text/plain": [
       "<ConstraintParameter: {pot@primary@component} = rocherpole2potential({rpole@primary@component}, {q@binary@component}, {ecc@binary@component}, {syncpar@primary@component}, {sma@binary@component}, 1) => 7.61379908669>"
      ]
     },
     "execution_count": 19,
     "metadata": {},
     "output_type": "execute_result"
    }
   ],
   "source": [
    "b.get_constraint(qualifier='pot', component='primary')"
   ]
  },
  {
   "cell_type": "markdown",
   "metadata": {},
   "source": [
    "Now we call 'flip_constraint' while passing one of the Parameter qualifiers to 'solve_for'."
   ]
  },
  {
   "cell_type": "code",
   "execution_count": 20,
   "metadata": {},
   "outputs": [
    {
     "data": {
      "text/plain": [
       "<ConstraintParameter: {rpole@primary@component} = rochepotential2rpole({pot@primary@component}, {q@binary@component}, {ecc@binary@component}, {syncpar@primary@component}, {sma@binary@component}, 1) => 0.8 solRad>"
      ]
     },
     "execution_count": 20,
     "metadata": {},
     "output_type": "execute_result"
    }
   ],
   "source": [
    "b.flip_constraint(qualifier='pot', component='primary', solve_for='rpole')"
   ]
  },
  {
   "cell_type": "markdown",
   "metadata": {},
   "source": [
    "Now we're allowed to set the potential (without an error) and the polar radius adjusts automatically."
   ]
  },
  {
   "cell_type": "code",
   "execution_count": 21,
   "metadata": {},
   "outputs": [
    {
     "name": "stdout",
     "output_type": "stream",
     "text": [
      "pot: 7.61379908669 rpole: 0.8\n"
     ]
    }
   ],
   "source": [
    "print \"pot: {} rpole: {}\".format(\n",
    "    b.get_value(qualifier='pot', component='primary', context='component'),\n",
    "    b.get_value(qualifier='rpole', component='primary', context='component'))"
   ]
  },
  {
   "cell_type": "code",
   "execution_count": 25,
   "metadata": {},
   "outputs": [],
   "source": [
    "b.set_value(qualifier='pot', component='primary', context='component', value=6.3)"
   ]
  },
  {
   "cell_type": "code",
   "execution_count": 26,
   "metadata": {},
   "outputs": [
    {
     "name": "stdout",
     "output_type": "stream",
     "text": [
      "pot: 6.3 rpole: 0.996759769041\n"
     ]
    }
   ],
   "source": [
    "print \"pot: {} rpole: {}\".format(\n",
    "    b.get_value(qualifier='pot', component='primary', context='component'),\n",
    "    b.get_value(qualifier='rpole', component='primary', context='component'))"
   ]
  },
  {
   "cell_type": "markdown",
   "metadata": {},
   "source": [
    "# Exercise"
   ]
  },
  {
   "cell_type": "markdown",
   "metadata": {},
   "source": [
    "This could be particularly useful if you have an observational constraint on 'asini' (say from the amplitude of RVs) and want to leave asini fixed as you fit for the inclination.  Flip the constraint so this is possible, set 'asini' to 20 (solar radii... we'll talk about units in the next tutorial), adjust the inclination, and show that 'sma' is adjusting automatically."
   ]
  },
  {
   "cell_type": "code",
   "execution_count": null,
   "metadata": {},
   "outputs": [],
   "source": []
  }
 ],
 "metadata": {
  "kernelspec": {
   "display_name": "Python 2",
   "language": "python",
   "name": "python2"
  },
  "language_info": {
   "codemirror_mode": {
    "name": "ipython",
    "version": 2
   },
   "file_extension": ".py",
   "mimetype": "text/x-python",
   "name": "python",
   "nbconvert_exporter": "python",
   "pygments_lexer": "ipython2",
   "version": "2.7.14"
  }
 },
 "nbformat": 4,
 "nbformat_minor": 2
}
