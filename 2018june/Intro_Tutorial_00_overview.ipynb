{
 "cells": [
  {
   "cell_type": "markdown",
   "metadata": {},
   "source": [
    "# Setup"
   ]
  },
  {
   "cell_type": "markdown",
   "metadata": {},
   "source": [
    "If running in a Jupyter/IPython notebook, depending on your version, you **may** need to use the following line in order to view plots in the notebook directly.  This is not necessary if running from a Python console or as a script."
   ]
  },
  {
   "cell_type": "code",
   "execution_count": 1,
   "metadata": {},
   "outputs": [],
   "source": [
    "#%matplotlib inline"
   ]
  },
  {
   "cell_type": "markdown",
   "metadata": {},
   "source": [
    "Let's import phoebe, numpy, and matplotlib.  We'll also create shortcuts to units (u) and constants (c) used within phoebe."
   ]
  },
  {
   "cell_type": "code",
   "execution_count": 2,
   "metadata": {},
   "outputs": [
    {
     "name": "stderr",
     "output_type": "stream",
     "text": [
      "/usr/lib/python2.7/dist-packages/matplotlib/cbook/deprecation.py:106: MatplotlibDeprecationWarning: The mpl_toolkits.axes_grid module was deprecated in version 2.1. Use mpl_toolkits.axes_grid1 and mpl_toolkits.axisartist provies the same functionality instead.\n",
      "  warnings.warn(message, mplDeprecation, stacklevel=1)\n"
     ]
    }
   ],
   "source": [
    "import phoebe\n",
    "from phoebe import u,c\n",
    "\n",
    "import numpy as np\n",
    "import matplotlib.pyplot as plt"
   ]
  },
  {
   "cell_type": "markdown",
   "metadata": {},
   "source": [
    "Now create a logger instance.  This will print messages to the screen or to a log file."
   ]
  },
  {
   "cell_type": "code",
   "execution_count": 3,
   "metadata": {},
   "outputs": [],
   "source": [
    "logger = phoebe.logger(clevel='WARNING')"
   ]
  },
  {
   "cell_type": "markdown",
   "metadata": {},
   "source": [
    "Let's make sure we're using the same version of PHOEBE.  If you're using a slightly different version, *some* of the outputs may be a bit different than you see here."
   ]
  },
  {
   "cell_type": "code",
   "execution_count": 4,
   "metadata": {},
   "outputs": [
    {
     "name": "stdout",
     "output_type": "stream",
     "text": [
      "2.0.8\n"
     ]
    }
   ],
   "source": [
    "print phoebe.__version__"
   ]
  },
  {
   "cell_type": "markdown",
   "metadata": {},
   "source": [
    "# Make a default model"
   ]
  },
  {
   "cell_type": "markdown",
   "metadata": {},
   "source": [
    "Let's first create a default binary system."
   ]
  },
  {
   "cell_type": "code",
   "execution_count": 5,
   "metadata": {},
   "outputs": [],
   "source": [
    "b = phoebe.default_binary()"
   ]
  },
  {
   "cell_type": "markdown",
   "metadata": {},
   "source": [
    "We can then attach datasets for both light curves (lc) and radial velocity curves (rv) with provided times."
   ]
  },
  {
   "cell_type": "code",
   "execution_count": 6,
   "metadata": {},
   "outputs": [
    {
     "data": {
      "text/plain": [
       "<ParameterSet: 15 parameters | contexts: compute, dataset>"
      ]
     },
     "execution_count": 6,
     "metadata": {},
     "output_type": "execute_result"
    }
   ],
   "source": [
    "b.add_dataset('lc', times=np.linspace(0,1,51))"
   ]
  },
  {
   "cell_type": "code",
   "execution_count": 7,
   "metadata": {},
   "outputs": [
    {
     "data": {
      "text/plain": [
       "<ParameterSet: 15 parameters | contexts: compute, dataset>"
      ]
     },
     "execution_count": 7,
     "metadata": {},
     "output_type": "execute_result"
    }
   ],
   "source": [
    "b.add_dataset('rv', times=np.linspace(0,1,21))"
   ]
  },
  {
   "cell_type": "markdown",
   "metadata": {},
   "source": [
    "To run the forward model, we call run_compute()"
   ]
  },
  {
   "cell_type": "code",
   "execution_count": 8,
   "metadata": {},
   "outputs": [
    {
     "data": {
      "text/plain": [
       "<ParameterSet: 6 parameters | kinds: rv, lc>"
      ]
     },
     "execution_count": 8,
     "metadata": {},
     "output_type": "execute_result"
    }
   ],
   "source": [
    "b.run_compute()"
   ]
  },
  {
   "cell_type": "markdown",
   "metadata": {},
   "source": [
    "And to plot all the synthetic datasets in our model, we call plot()"
   ]
  },
  {
   "cell_type": "code",
   "execution_count": 9,
   "metadata": {},
   "outputs": [
    {
     "data": {
      "image/png": "[encoded data removed]",
      "text/plain": [
       "<matplotlib.figure.Figure at 0x7f677a711f10>"
      ]
     },
     "metadata": {},
     "output_type": "display_data"
    }
   ],
   "source": [
    "axs, artists = b.plot(show=True)"
   ]
  },
  {
   "cell_type": "markdown",
   "metadata": {},
   "source": [
    "Or to animate we can call animate() with a list of times we want included in the animation.\n",
    "\n",
    "(ignore the extra empty figure below the animation in Jupyter notebooks)"
   ]
  },
  {
   "cell_type": "code",
   "execution_count": 10,
   "metadata": {},
   "outputs": [
    {
     "data": {
      "text/html": [
       "<video controls loop>\n",
       " <source src=\"data:video/x-m4v;base64,AAAAIGZ0eXBpc29tAAACAGlzb21pc28yYXZjMW1wNDEAAAAIZnJlZQAAK8dtZGF0AAACrgYF//+q\n",
       "3EXpvebZSLeWLNgg2SPu73gyNjQgLSBjb3JlIDE1MiByMjg1NCBlOWE1OTAzIC0gSC4yNjQvTVBF\n",
       "Ry00IEFWQyBjb2RlYyAtIENvcHlsZWZ0IDIwMDMtMjAxNyAtIGh0dHA6Ly93d3cudmlkZW9sYW4u\n",
       "b3JnL3gyNjQuaHRtbCAtIG9wdGlvbnM6IGNhYmFjPTEgcmVmPTMgZGVibG9jaz0xOjA6MCBhbmFs\n",
       "eXNlPTB4MzoweDExMyBtZT1oZXggc3VibWU9NyBwc3k9MSBwc3lfcmQ9MS4wMDowLjAwIG1peGVk\n",
       "X3JlZj0xIG1lX3JhbmdlPTE2IGNocm9tYV9tZT0xIHRyZWxsaXM9MSA4eDhkY3Q9MSBjcW09MCBk\n",
       "ZWFkem9uZT0yMSwxMSBmYXN0X3Bza2lwPTEgY2hyb21hX3FwX29mZnNldD0tMiB0aHJlYWRzPTkg\n",
       "bG9va2FoZWFkX3RocmVhZHM9MSBzbGljZWRfdGhyZWFkcz0wIG5yPTAgZGVjaW1hdGU9MSBpbnRl\n",
       "cmxhY2VkPTAgYmx1cmF5X2NvbXBhdD0wIGNvbnN0cmFpbmVkX2ludHJhPTAgYmZyYW1lcz0zIGJf\n",
       "cHlyYW1pZD0yIGJfYWRhcHQ9MSBiX2JpYXM9MCBkaXJlY3Q9MSB3ZWlnaHRiPTEgb3Blbl9nb3A9\n",
       "MCB3ZWlnaHRwPTIga2V5aW50PTI1MCBrZXlpbnRfbWluPTIwIHNjZW5lY3V0PTQwIGludHJhX3Jl\n",
       "ZnJlc2g9MCByY19sb29rYWhlYWQ9NDAgcmM9Y3JmIG1idHJlZT0xIGNyZj0yMy4wIHFjb21wPTAu\n",
       "NjAgcXBtaW49MCBxcG1heD02OSBxcHN0ZXA9NCBpcF9yYXRpbz0xLjQwIGFxPTE6MS4wMACAAAAe\n",
       "uWWIhAA7//73Tr8Cm0WXagOSVwlE+cJWz5gCthASa1zTwRJcJyEx9GfgscRB/p91CBw0BAAAAwAB\n",
       "+r5Uy3s3Xx5GsD4sRMbc39632JUEyWDC5ABYlB1/dr6A2mBnVcPYhoKUwOKEVyDyrpw50sX9HtYY\n",
       "VeLQZwg1fSQGhmfS9gTeue62uC81rnlbzy5L0Nlxfs63vVByFeRg3HnILf7lIrV1Pva5+7gBBqs2\n",
       "1cCBah4uScdbZIe4wTh41byzcHIeePDOSoj0fK/p5kAM3XrzXOcI1pHUA9SGQOnGvdFQIim4YCLH\n",
       "qiLHu6RzBQa3lqWMxwYtqpXxylWDywN1EXumqLWMorovEXOvAo9cDnzqDi+VnAw5ZMenhnyyRVtO\n",
       "jSJGQ9+NUlc7+nW8hZbyodUGd17Gpk3mxO/5evYfwjN8Hs6jbw22q/nOdV/UhaqtrcVOPH1slOvf\n",
       "NPn1t9yZ4FOas3RoygdY1GNkN7VJJvPuUBDCBuCvliEExjrwrFCJp5UKWf9UeRQPUyYOaWfEq7Lw\n",
       "C5fzOer+p2lBHrRSg9wW08I6igijl24+JmzSgARRJeN8ErcruOm7mRO6UksRopB+5O62BbUSUL9B\n",
       "DIsPjyCwH9tXgXK+/8I7UMYOQQcJbD9AtgFH1VTmUcJPwFro/Q5ffA6vRh56EEtdw1d39hCL9/hw\n",
       "Sd7jEIl2fsi+VqHrMqOimeXHscTw2bdWAQE9cusEnAB4BTtTxoOR2HQxAb4cG+umO/iDEDsCLP9C\n",
       "X6vAyHXPnP8xSOeUIcd+ifEivilZRHYMrB2kC/yXXHG53Wh1DPbPHWEjFAlfCV7BN/jTy0MBRJOQ\n",
       "yZuXU4fes2QET3lXbeqlSRGjRPYovW/vBaSSIfwQ/DgqzZ0tYLQ/F2swV02XRXKUoU+F/+oSg35M\n",
       "5MimGB+W0+IdKgf1AeFJlQskXZWjO142He7KwXLB1fE/d6a9pG7LNQD3rhkHEbavv/+F6RfzhJQ1\n",
       "eqqpEMeDWmg/3iNI02rKbWYyMmOHhhtpZYQ4RmXo9y2lp3x02+GuAIunTdeNe/dO0kEovmt9SVTD\n",
       "VSp8fuGiPddJIXRo1/nrEJXGgpmZoqDTh72vv8obbptOR7st4eS8erBhuzDlmmiVQ+BiK8fhNEBi\n",
       "xivmH9wb6mtU+mUnBlcgOtqPLd1N5qMib8aeN89RULAjmxUeYOekPh5Jnukhiw2f0bzE4dKov2/f\n",
       "2CsUgMeYb46HO0Pdyev5swAI2PSV+LZkdqDq2HS9W8w/q7aiu7lySszc6beQgTXXsAw1UzrJzmLI\n",
       "LcrV4zPsSji2u0Ahx5IbO+g5s1Ld67X8/kstEPVwfJfAx+Wg5hM16qc6lyHs3uR8YqMq855AHSXT\n",
       "gHkBLl7Q9n71yKDcBvqhtjHTK/iqz6hn0A3zVC4HD1P+SU6MW27dxx+g9gj8NvG30NHLs+6kHjBG\n",
       "HTsiyQMfg+38RsTj62kqAESE+PzhgKLjOu9ED8nkQfCoVy3hH/GW2Yxif5a6FNYPjOqH0SSckmS8\n",
       "7FB6Sdj8P8010GjMT0csSUABJ0MAXD5YX10Kc4rRTxzXWPi1wHByZ2OF/8vtkyvwBIPdmiXPeWHk\n",
       "LXi5AIp7lYzgx8Vzo/kR+uhI2jZoyhGRx6+hGFi4Dm7nZk/1F4pkG3HUUoAwaHrVBudA6KDlvqs7\n",
       "7YQX0vKwoeT4x/3X24bH/4GSVDWpsh31RaCs/q7frIfn0mAW5TFp2HZzXu8abA/gfq20R0wNWHhH\n",
       "vlClSUd0It2sz90CrBMvyS+MVDD3vBBJO0k5JTmtyDFoY8VGuFY1AQpMHZactKEk0uTgjawGQck8\n",
       "YqI84W3PHZbqujhDXxi2O2iUBe7hWS6EwLy3FHvcJOzNfYziZwMWN0E6sHKY4bfcMnm4IkMZpKC3\n",
       "yCs27tI8PVTD3AItx6ixN0hpJ/6PkDcXCxhhwd+OaZAT1tiCPCVqLoh1DLP5wMmeC38yFjpKD8zg\n",
       "Az0wi+4KAAX23xcOZ4NeuUgd11CiSNl1FloP3kggAN+WIKxFYS63IYK9acfsYjbLPIxGFYiP17Y7\n",
       "XDkbK1vKegeNz92oA1G+yKIg5w5Y0E6UpQ6JxPAKG8dmRHLT32p2zYijYrAvJCzQa6//n8IlaoA9\n",
       "NSDUSnQY3PC7yD6IVU1rMtBQshSG71M9OCuCb6D0+5Nb3sBleMzwsjwXFtIXzRsMG7JtRPDr2inT\n",
       "vnu3zjdKXySLY3pyFBSvNHNykp+p/6JhT6pH5AUiJU8keIDf3zNG3243vAzJlwT4OkkSDZxzB37m\n",
       "/xPAr6991Owy6ouKVNSjMjcn9aANXEVM4yC4SB7iKPRL9jz/+YJIMpEkAM8cCrSPgr3kTnR/CGzQ\n",
       "bB00Hu1kA22iGXxIaAz4cK8NsVyqcLIMQZIkANvRk0R2c5dpVdRe9xGjWBufd/jURdLqe0KKQlg3\n",
       "NVgp3Jlo/MaXg1FHg35DboCkVZjf2auCo1jAXrtTx3qKCC4BFl5znvUh9mthbhtlXP13Y5wFamRS\n",
       "hXB2/KmtpgtpdhFEv/gh85q4WX8E7rpcvTxEALn5Qjbr95W6KZ1svOfCRhBevYWcPkkP74lJNeHb\n",
       "NlfnSZp5wf7hWjQk2Vibr4XM9AZMjfL7Jxey8t6vcM35P6ltSPuOaful/VlxxVv0iY8RV7knly/+\n",
       "4OF6DqKTecKxWfN7X4orlrAGtSjYgkNpicgRC60SYiQ0vuzLfFG+GMDEFkutdOAlCBf/xztjs52s\n",
       "wRJh4emsEicG7r+srGJ6P5cd6aXGJS1BmceTVUo2Wz1lXwBlEFkmfJboWJZTLNugAP87N5EYtOCm\n",
       "Xw5Cn/DFYSAsTzGDebXBbzig9UHUDcgkOppL7wz+aYPQ0XiFqYUFW/ISyjZtloNLYEIm5HBvMAVA\n",
       "DCmoB4TfmSRPGHJJpbQK9CBgc+ZXSeBF1Q4a/s1VIsTpeYNryb5ij8kmP5uqOKiojPLLe3LRhFSt\n",
       "R5890o/xNgvPQQlLBMJqwTFLc5Cr5reCLpb/RWQ/ZPWsHXcXC1F5spsFPa+uuJWQ3F43vrcX///5\n",
       "lmbrpVtfUspphNgOc400FivYELtlGk0wrYTpha1f7Y1V6DpQt47Hi2q6x+FUqgsYDqwldD72ipCZ\n",
       "gbwvw1wPQfM9NxH+vU+5yZInB1Qwpsls/L0+0B5Ke4175t7oC/hIzG420I7ukWg2Ob2L/9gZKemc\n",
       "AKTYBpyEZ8AVZ647lkHgX7KN172mLHnUaKYJ93SaqW98GzYnkp0RVUjdnd8ELmpsVZ0fpGxwfNLu\n",
       "ddJSaHpYGEl3njkcWKAwb88w69wAD8orE4ZohmBIWgtHzUUdoq5tMvU+f0miaIXYLC09sW5fpUfu\n",
       "cGgCBDwTxzA3vgMPI6SImhj3DzNeYgOxmBIPGbx9LgQrcee5d0yyp7qvHU+end9bZT4e8A3/xJ84\n",
       "GcVcnm+Oo3zYS6x+uC+lae2GrunZasO8bMJOQyYdkFaZglIpcXBxDCTMlD7fZbtS1DxwztgexG7c\n",
       "0jqeW22Hha+hXLFa2AhyjO4ZEPNyKTBTXEvXyejzj4K1w/EQHNQs9uXxbm1EARlxNph/uQ/VHoYr\n",
       "3yNHSbyAnFI2C2w2gtMW9Dah9km4qMEietRIcfn328l83J/SzYu9Bex86+3/G2TWCFBJYu82IeG9\n",
       "NvAZ1rML78WKy+eMorvFLcSxZ5fpUSR9fJbe36EKtPBltEdcX0s854E5CES5foGNGfq7oYi/iCZr\n",
       "IL1QMgCnNhdRI8iYOF6gfcv/o5SXgj+P/HbueO70TPOoYEhLnRbG8lQwhRQRhsZ/FX/9CCq+ihnC\n",
       "Z9jPKy/QbQ44jbO0eYCT9nYD0AIBe8Lh/y5emeUIq5mQFsccZU97fDkTjA6HNxh/p3/A2Bq8Sh0a\n",
       "vw7w1cnNttzb9a7yuA4K3ELCPvFyMjc5/DxGSQZdClvxMbR+SNf3SGSGXFZJuQU8bZdBsTexySj6\n",
       "Fn/239Hf5Cv7Y8vn2reDuMgbiJYAABn8EWfOLkTiLULpaiw6GI1eZNWYW3hePhGpN+hv3mNS4m+P\n",
       "0OPeyX0sEn8wSe3pcIKpsWUxertRv72ex7X+s7NBI326VfB4pMD/OC+lOLlaRzzghnLZgjdEusIM\n",
       "pUqJbMOyW/q7T91gG8M7y6Rh2C0H9McVslo97hutLRZUyGQmIomwELgfAZWf578KfkDOKKxFO7e2\n",
       "zYQ8xb8OivUXhrXlII9Yi9y6YxuRo2aQgMA6kzIf4cecPo8dXtBmsAxzy3vc1MbTQNQ27cAMTNQW\n",
       "0mWVcWhJHg/CdiKeo8zLjC5NnL0Z5kycRNT4x9M+VYRPd+vKT+dsOA7/WLQj7uYO2KrMdei7Qu+h\n",
       "Fr23Ih5pz4N3kpdH/NSZTbNgC+2hqQ/pbAAbkhbS+YcyJdpeyA2iu6re18p9b1/T2waN1kTKapCj\n",
       "172hGT+WtrgBesXxi5JqWWxqwNfw2wzSwDlAU5OnIZGsum/5EX5zUF3VkcO9QgVVrRj9W+Efq1TQ\n",
       "NIH+vpbGnOciwlaDPseWVoLsEtfR/akhcQvguQbTTMQMLW4aqa8ale3lkEywvjEqZaDi6+NwYu+s\n",
       "vUj9jxaSjwrUOz8QCH1tFONoUQD27Kv4mrm+NzcU1n5x4RJm9HVxJWgwfrplNQUbMXKY8PuW0lIl\n",
       "ISZXEYQvURHVy8apgKXcpFtWxxDDN7feNi5OcSLsxIqzL8U0Gn+5xbZ10bCfH+Teej1BlBJFEXb4\n",
       "0rK8QUtddar7wlbzu76XI8wYB5OHu22ahhfwktECg96KgzKUZi4dN25Jo2y7pjcfoPCHWY33GFZC\n",
       "2rS5ldjrOY3f5q0dkWTjGubclq8S/vApYFyPlrxC4nS6HGYHGfjuY6xjUU6jEye2AMLZBSVcw/sb\n",
       "yUjl+Rh1JTycduHM6xdspP/intklyQI2rvcMsG1Y0IZW/JbeP4athiYtvRweOUPwdOj6ykh5gtYS\n",
       "a3DMc+v+BFxA4M/+nKx/CkDuf2LGVfjvf5J1nq3n5C/7HZeC8ugyM6QYepFenbrfMZCXjEpDMBlj\n",
       "yn6i1hykcy3d4JRdSYWwWEJu57y/0u+F/jHEi2VFO+KWJ+uXpV/9sMlfh9ZtJg7Zviutw/32rfkR\n",
       "wVmnAme0JCegw/s5SLBDgaxB2fbrr5A2V0thHGHzIvS/9PDU1nydKmqH16LdG38rLHmAriiQQndB\n",
       "c7ow8kNlA5WpNXC6lBak8yBzqavD61dVpFkUQn8R6Wx3uJRNhqqzlnK+st5PC1jCbdQMqqyX5i/p\n",
       "TQ/6b2xMALx5GE6mvsn4S+gauo/NiEOjZg5DYxslPXVva/htWhmZhHB4olpzxzF07p1l8oK9+tBK\n",
       "EFL97vD/cO7yyUfULF4Q9Cx7Nk2SWYXCY8kfKY1xgh+93pbu5bumNyLHz7hbDRdAInTMfQ8XajMY\n",
       "ooPoJnDJWftNFHGeTWmSc22GlE4tIhCNlK+exllwGOqWg6eyKSG4ih7WSFrpx8Qk+va006MSknsJ\n",
       "xX+t7wZjNd6yQtC77LCJDBXd4lfBZKdp/x8VWatmSUyORqUQkw7rgB+JDQ/K0FWpvlJj9abD9eRq\n",
       "AMED04GwgRyHx8lXEtooeJ07tWQn0XTM/3gIAJ9X6NGGPJGjLQrJiQLPzFQr89NS0q/4YRM7yp0l\n",
       "hsXFJnVMxZlCRVfw+qUSYGrwsy7O7iqP1tYwHKJ+DM6TJWSDTnw4DP1hpDkhZLTSKefHlepyfJ0U\n",
       "JM1S5xYNMYwfMa0bPtgzY7emcX4fM+4Yfcq0DSBg3B4aMLvPDtMW/nWtYwBT5+WIRJJ3VXISYrVg\n",
       "T2PQAvdyyU6T6PMa1gysd0OvXmi51B94T8Ay2S8bALvz3xxatVCYEJqocfTXjqhE4jfKB/0iNQ7h\n",
       "tGlimgMtRaAr7R3PKoR6f9FscejRLt6jTdH+QfvogosuB5gnDgadgaAZMvbUTy2iiIIpCO3Wii5y\n",
       "mFw8ksS2NZLinfKWav+TO2+CquBzbqE2FDC4lbiQKvYmY0FMI8BsW+G+rVZgluyegixpq2as36xV\n",
       "BySZ+KX6+wAVFaiiGK8oBbrK6k9IbwtkGje6Uki6iHWIDJm6T7t7RismqP8d/tWOZiqZseX5Ia5L\n",
       "iPEdwgWk3T3pHYc2PhysOKwnQLptEzJaM2xDSdgu3uCVGEF5D0NmwSE9MwGwntTheNyGEfn7ZoyA\n",
       "xcvpcB5a8obllAgoU8BY8OLPq14axSkLcYTWtaGI/Dkhu56Oig8pZQgJ0UHdh6I0ggBOusKGhPAV\n",
       "pSjE0CtdsoxTT9jygpNl32drpRoBAGa+2//Mhjp8fpEKcSU2d5Gj7SLLfBI3Wh4y+Nu6xHb0cne+\n",
       "c92bqGpLpaKCrt8zs20zsePdDhUHxlDJ7fkZkJBtJTkDT9Rq39GAxLyeRdeu4We7ovTf+o5qF5R6\n",
       "G5FC/pFMSP3LYLNF/FvnIM8JLy/OJ2Ff01tAEIafBbR/FINdKsmXg4GWNBQspBehHStGttYFMtea\n",
       "MdF2HenyEEsVKdSgPhDZ8bh6RpbIxQ7PicM49JmEs3tQr2zc9YFoeyq9c41KsTm7DBOhOEf3mjNF\n",
       "HrpKDh+Kys4/MzCvB244hAr3q+SAdgDW1DGK8iVzU6ZxiVEZofI3jkkGhsuI8NqcLWXQ8fjoEaxN\n",
       "jQqI+IhG6op7a4bcrJPJoS/0aixd+KPXoPIIHaoLWP1GZv0XTtx4bftHv2afIqvu9o9ByOEmh2aT\n",
       "vyuFqYxLKlKpcY1YTc2xbFrEDVEXyGsAm4Ck1Q6GktA7ebljRVir75mvXmVm44XHzh+UXfO9Ces7\n",
       "L6nsoJCopjBvGvPDQnXxY6hU/Yf9wVToJ43FzqWAc/ZeX5NTIr9k6W6AEkgB9g86Aan7Ip5/VCpl\n",
       "AtjrjgcvXbc44pXY78OcYIY9uOUucqO0fK5yV/OHEaRWCm5VjDZissDoXfdntx58MMI26rddSiFn\n",
       "hwiONwv7axbYzFlTi59jlOB99YWv8F1YIHddvV9D5vNswf3+7MjRaYaghXLjqjZPMKceCZSQm2zV\n",
       "AaK2HJj9VSpE1aNJYM8/Tj3XUkbTMRO9Wgd76kLupMtXPLNCeZPkKr7gaGE/2lR4ehlUhXj6Uefw\n",
       "EZtVzty9hswm5kgatK4sk1HWXCm05MDUFQwyekMYz2030GhpN7LTvg35GS4/KbLfIAaMLvPcQLCG\n",
       "5QTN01yXd9eZHIOuQrasupH/Vn2EQN8V9bLF3dLRkV3DcCuTPi0asMQuVwoqDnDpuBZmITG/pZnu\n",
       "zNezGIdHgZqiFnzs6VbDFHA0EUQjniE/qMqLMT/Z95iF5MR6MV4cT77fJBu7lndXb7S5/SkkLoqQ\n",
       "s7TBbmHWTHG7AVeiZXCiyWAgvr/NMB79Lr03efQaStTab6YKNSy8NYLxhp1b2ebyviBfwDD+hG+L\n",
       "fBWAMc+ih+DkkB0EImlrvntFhX+vy5tClNNWit2XSTGy9OkP1EApNdfn6NbQVTeifgc9KqC7DjT5\n",
       "biGJ37Pv5itR2lwdln1ux+4LA1fcs9Jx4lbJFEfjHfBuE5lK5+eiJkRN/bjUsQ0QN1tcnct2uoDt\n",
       "n3f4mjU/LeI0flh++jVocwMnx0QbVKobefgrWqKPxPISq9Deqg9sq4SV2FajbJcsMVLdYB6LRIMP\n",
       "qlvApNdVIhcKkDGHpnYQz2xA6Yk0q+NYd2JVNrU6bW+V9Jwf6/19rO3V1Xo2pDaQCLzYVLAyaopM\n",
       "bxdE7xElM59N1qOdp1u2sHBSS1MUU6VvHTX2pk40N7zgQC0FIpbeut7x1ERd9aXL6iwSpxV04j00\n",
       "FcKCvF7ybJzn5rL1xo3MvPM3WrNMcY/mQXR/ITu0iTPsTvPFMzafn0BC50GWWRp69qACI7gFfn6j\n",
       "C/CdvFs1M8qAk8qrisLq0NbVYW9TlEzhG0VJH3Vnvw4D3d0uKt1d9/FDC7w4h1Xk4dTZsK3wdzxz\n",
       "Wt1MAhCKskMqlkVUwruT64V9ESnnOmKdAFL8KEgv/LklUMWivuK6kwEZ6CGqErPcKhVDW8wYx0S7\n",
       "FYQFo+Y+u9PnwqRot1vdK4ZlVLEebGMhtk3XLZkUnHJjINDTPRaX5USbMfTsD5MEMQG4W675ZQtu\n",
       "fp00Zan6bphO7Zgjz0N4kT/bKZ3NR1oqJ9COY0C//2BEFg/HzSbEVzhJfMSsWBcOaBvH6bCpcGz6\n",
       "uTgGI4/qFdbRtW+HDhsMmItBPqJE1nbNFARbrgoY3GPslxJRpeBAP2Qgoo6pjODIwTkVhemxPY9S\n",
       "dP4bvVhL6VYetJlokdP010nZuB3gQgg9DHAQ69KbIF2pOMPH7qiKI9EmL/w/JuWjDOcxGUPGsatn\n",
       "ZDZhebBVSx1ZWQkUxBJg+3cu1RUPA21pfUVa19qyQujUqhee/gZoEXGC2gOrWpVfdeXT6OddlKNL\n",
       "p/HDuXgVUKF4zuNBxDmQ/sccXeT0M1Oyhx3Fj9GvSEGBmWphVe7PB8zpNSprtv8KReQl9/AB8gIK\n",
       "aXI9RckP+xp6eK75w5gpcN0cPatV/3LZmp+kuNWCreQUF+Fol/ZHkA8SsB1FPpvVyPVBp3HeaVua\n",
       "VWjervbU3k4bw5t863Ci5ODMrUZn6nwWKorsM3vJvEO7G/4tU18ShCwX98RgHkYM18fEW6ShtzjC\n",
       "LDhdq8Aa1hiufVFZh3f/h/GzHtEODORBCqcah+0qgXqNL80b/ONDUF+z9N9rwx69jZvYsz7w7K2Z\n",
       "sN1utC3QWTv23P2CH68cwu+jsnWESZGi9sRfoX3NOSymEvJE4GDzIodvCnPsTT2u9KegRktY9gvh\n",
       "c/9Q8NbdUP8XDlSipg6PEa1lG5AtpLakmeSeydmExiLbbcvDT0e4DbFsLPXFOYmETLgTVtO3/DMV\n",
       "6UDp0BICsa6okPe9pkYl4TLd0L0da4I7dGXFd5s7Rsj2xnHuY8pObc8ogGCMserj5XqQ515naSEh\n",
       "v81HbpTqJGeJIwPRph2Hb//bhEyVD7OMdpE5wO5qRcfGoJ4uUSkRLoPrVv95gUXEDKpt/37ehnyf\n",
       "Qrj/sF7R93i8eA14xJvomzoGB7PaPWGM67/J5gVkfjKYEY0oiogX98Q/fwwDCIcVLehPzJ1W3fgB\n",
       "yQfqxcXcMIHGrpOlysjluCxaECRJ23AfuLiGq5lAxfDuwwuAm7vnCIxCgJniRS/zyGGI8Cy9+wwV\n",
       "7GYE/7cfGmfX7f/hJJiJDG0QLrC23VUz8bGA36R0Pi9D6vhLyFqGWWHK8lQY4RKNm3Y3sLbzB805\n",
       "eTk9rh6MhViGd19nHet9c4CeLh0eeaRUyGiUjHKR6R1q2dIIfyZiblHz54PyCP00Dd4kjuvT7PQ2\n",
       "P+eNs3TbV8UoRr4Al8t/5qKb378RZwk5uSrDbchVXrI9c0PJ3Il1Q9BXgWTuCwc+oCC6JJgrvGkI\n",
       "ZNSVWE0bzVkeaAKizhJSmgIiO+YmtWndCJoSx8PncfQI83kYVbSdWfeWan9nxa7ju9Z3WKjH6ehh\n",
       "5ZhIOiHjAFYn6mFz8/CtxhT8A1WhgsPEGb+vBMnm+oiKBQ1EmEReh4nCnC0m0PLzkx8pBiJi3Yhc\n",
       "aXDuiEYYYPh/LZiUpYNFFdgH5jAOBflqFr/VbBUQ03CMM22S+/eTeqAZbwMgdWXFShCfzkAyE8m6\n",
       "nA9RcV0cDWr9q93M02M6l6B8W9IUO0UPoX4z3FtHila35afySTzSEWemoMmR08YFAX+mOpoAXmt4\n",
       "xOAUnR2S3wCPFHIFM03CYj8as8rpGWHqlHX+JkuelxhMuGkKjCBCTt7341fClyTk+GWZwJIIw9p0\n",
       "QYzj/wuH9BupfEqOxvyohj1rV0DNYzKSTQcqTgnvkeVf4f+4YBtnIjlJBEvf0u5RufP6BfQN2zhu\n",
       "TKq9DTjYNA/lqTHLd3vWtIN7lEcd4XvtWvWq+Y7tyblK+0P9qqjwY87GBjz5GI1ZoijVKz5IePgz\n",
       "RfrXwGLCD8Ycf3w6/6KKZuiIF//pr+AKsKoKj/X5Eq6mWJS9DYBdsbooHjxncG4R050tao+Azfqy\n",
       "XSHdt26rbWzzORX2CZc/oJ13Z9sgeszjE9ZugmjOKytDFRFtZjgmRocd2dRypicU9o9vwoy0VdVy\n",
       "n0NGljjlelPy+Cx0fzD/iKUhiyQVe5oSjgKKduIe399MAT+S4t0zUbX2d5r8gLZ14nk7mxCSWcBC\n",
       "b8GbaFGvBKjkre1vYS634M6a68X94eyI9RVrZMiGnyWkWovI+TZnoabSqgKwUMiFhMlOIcuAI4Ig\n",
       "y1H67oWDLHd9kWoAJJxmbJbh9tprCgh272VvoZdihm4EideqmiIxCSUYE7HA+8RzhrtLKWR+RnH/\n",
       "CjpFaOUSczlwCewjZt8BR1z3/IKjBn4XKpVSFkmGZQUfHYL1yM1CWT/RdwVCBeBSuzNYOVKcw008\n",
       "RTuwpc4Kvc97OBwxOmEYEw7pJDoLbsd6QUCq9JsFKopRtATnDqE2lAhsPeEZf2KYd9hYmuJazagH\n",
       "Col0qIhXQ7WBWpVYl332cX3ugoNY7ezJCIrUGoU7U9bf8+rdu/Vz2gcdA0yAYD37L9CBfBpBNF2l\n",
       "AAAB3UGaJGxDv/6plgPvjdCqdABUwqm+SascxhObOiu0NzDNsAvYk2VM97QW4uApftyGXT2DxMMN\n",
       "Y//x4w5y9/u8bcGgmsNsa2EJHP/Mkd9k59VhaqcH4d5Slx9Wb9umtxNAj+c9ib/igf0CJ0L4cQKP\n",
       "ckOjoXFOT+tBXPCNdwGNeQW38udHseJTCWYIEsiZmvnXv65eQmwozEtY29VcFgaqXiNTcMUevDNl\n",
       "jB4DQ8NzadtRYqdl2NAJ0YZVdDlgrNnorRcQzQWWqPv9Mzl9BChAgXhX3fCNmnwSKDKhdY6NpYoB\n",
       "VJjue7VKBXzcoqD9PYp9rYTWlu50xZrmI2Pgt6AIXrsLe8QWIVWu+LDqa2vArMUWE9boEbDdQUJ6\n",
       "F6xPTj2leTI78ZRP5Uj7TJg8tbJF+AbxSc8r1GztbsnMXqfvBNeC07Q506Ge71rg9n7GR9WxZ0wL\n",
       "2k4gnf0DRKm/jibxE9fANOBHewa73OMIFzZKjXCW9GlVwpGdGUpDY5MYQuBACqP695BJUc7IuMaZ\n",
       "c4AxL/eH5MX6ToBryZ6yUtL60TC6mSxoWn+2+mlpHOk18il1Hsmt3NyH/GBjPrrM4wBGgE0EAcvl\n",
       "m+zb2Sjs2ryuu0jIeD3VUmMlpyVAUbs5wAAAARhBnkJ4hn8BeMVluTI+HsVABl3Gh+RDj1Ut1sJ6\n",
       "JQyNXf/C8RpAHn16AnnXJ8ElWrckxlxa9Q1aTfaRpsOHQWEtjldyrQ6bAvo22KvChD33ZcWTHVHQ\n",
       "H2WWf69H6rHZsPPQlqhCuBUWDafJeTIg4tP5ubzrB6mqzQK10f08bpfZ14MCP2+N27M8CqYN0hYU\n",
       "tzap3UPmL6YZ/AMl1iZaSqQwk7JZ/E/SJZ91IRWC5rn0Z7F+Z3qSYo//+ZxXYiqcLgspJrBejnRu\n",
       "jUZXdXhWmavWb2apyEGwewJnDuwLoY3tiKerWX8K2r52NgvsiRd0so2CnT7KJT1s9bxTIi4ryjSC\n",
       "/c5ObD334Ez2XNKOHvmlN29oCgEkgGDBAAABEAGeYXRCvwLbirsHkgAh9vpxJ7GsTT3Q6yQJlKDt\n",
       "ZJUL3bngrqeiUe2U1vfelt8HFtDXGHha2BjryF/05KX3KsedJ82Iaq9sI0+XXdf91AVYOcv70/bU\n",
       "QgWdY0tUqdZaM3wDLgLZfEWqHUdusOm4iq6D2l9X65raH02qDseCQb6n8+3z6+3YARq5UPKjPSYM\n",
       "iBYj08ME3pY0yeoVhLA2V1Pgsbn8O+K0EI2Hqnkgp80/95GIUD+psCiewQcBpYGL16inSS3tFpvO\n",
       "Qo7ViJzOCDdCMU0cWFB0cDFdg+auPv7hTNBHj4IL5VYTl41+wA5gueZqQ7S1dIOvcBDuyJE8YmcO\n",
       "dJ0d4Y60E+TQGEJttPeAAAABAgGeY2pCvwKuTSWJgqsxDhPaABDeagjt5rD5GTZlfdjLCgsHlWVw\n",
       "9yxARrzxOjDBxtqw0SOlc59ticblettRQ+uH+GBqeTBAy76g+MUYwxZ1j0YnPKoDMGj5vc1SoVMA\n",
       "CEHsKh3KO3BPbw//KBwXdUk4qRPnH6JVkUT0X0w43DS/XOY7iQkVr3PBx+VzzH0foKc6GFevWmEW\n",
       "kdVJB9PLZbuDGywr+wo4lHTZGa0eespP4Ei3CeBM00IoQ4Gl0aSoED+KB1HjozAJMa8mmJ0XUHHq\n",
       "0TqAvutgUqgUK6wv/tuk9Xvo8zfGQbx8LsPcWP3WI0FW1QdDgmGMWYmoAuSge54DOwAAAPxBmmhJ\n",
       "qEFomUwIZ//+nhAbpA6KvztxvLdLmgAqTyX52OxsGuebnO15G9Lv/hdgZLMn4A53wymNRGX9vtq3\n",
       "JMTe2vUNWk32iI2GHQWEvqBgfCbGaxLir+mpB2iY6/yMRxgY/SfZKwDjnjEyZlDJxRgwDgZU/6+k\n",
       "VH86g5MtxssYY2c4SPz+zfsjYU57+qktgrbX4aMxQWrBEOL7WIIKxy9e/KPy6cYjy8JHhENeZIhO\n",
       "FqYEcmt7Q5cG+blQuaQCTDe70jWuRJiqAv5e2owKZBr51zVcDPNS+luVlQf/tsaLJM3p9B5B5Sg8\n",
       "dQuTQjWxpBHsGBTGqxZoxxo2JNUAAAD9QZ6GRREsM/8BQhdpqYAB2h9VnGedC1iLip/vShVgvADD\n",
       "xOO5slslEVoQNz1aoO5wJ8oUXdCqtfJj+TF1Q7drQgIy02kFTjY17PMTWMhmRT4AEQ5yxmMgMJVT\n",
       "ZBTFZSY6jQenxhqBbd0QfG9KhSrzNsK+Rrxvlcz+cqbMtEJuspGrHG8EHjs25BNvhOU/VYpM2kF1\n",
       "sBnmN1BmrvxD8uWLEMQTxnyZ7VhUEcbvbvrcEYx7eSVJaV+Mg0T9bBJyjozNvqjOl6HAb7m0MIPP\n",
       "sEXP5JCGtA9wKJA37kJnr8uS5Tv+bVWAbGxrPuchyHAoF7FMibR/wLti+L53e/+bdwAAAMEBnqV0\n",
       "Qr8CR8Hq2BB9EqcgBbPOAi3sSZJ99+9Vk2Stune3rWUsr7fncG2b4VBC9evi18EGebaq63LynrB/\n",
       "CSgEN66Fnj3fxdvm5PLxRIGLh7bRppklUMWmS9kyjaXXML21+uXWHDeIwD7VHFDIyFlB7J+CbGcn\n",
       "Nbv3zTYMAwGgvW/YIRDqFPUmKANAiZD0OGBkTMCBuPyqJgTTvaLFVJY1rl+Mk4DqKMS067lNbHCh\n",
       "k2YSjqPZhzX4SL6ZUyHX3SThAAAA4wGep2pCvwIK0THitE7RD6hMACIDcwCLzuH+wqULSqXoeKwl\n",
       "3bvHtw7pUwBHwN6o2iT5aHH/nGHlfKFZYnuuKRGgtzmALj5XG7iyGvJpEHSzsdvIT0Xv81d+ShU2\n",
       "VhWcjsie1x7xYRAn5P3LKLy54OIgNaSTrjipotjpsXlpsVmpWPXuDgptd11ZO8Cskix9khHqrCXw\n",
       "Z0R4jY3amTqQ/yXMLMZRSnWdcemIlm+/HV6hAArb8uGVuH0y05q+9/OSFQ3W2z9wUutU+K0IXjgo\n",
       "EcLsTOzm6ujKfszNE9Eb3i6tswUcAAAAsUGaqkmoQWyZTBRMK//+OEA0+zhJ64qFgBbhc9N5+vuW\n",
       "w4sFK86Kg0zEYjBPaOCSOQoWcBnsTajmCdgQWhKMBxoVwKLBMgOXB4qlkKHKX9dZyGhNGH2qDadU\n",
       "e34nWZWaXHEa+mn987eAefXwZz0RInXu1GJpGD7QOrGtf3y/vpnl/vUAtlvgdJiSkCH4U0amEbsQ\n",
       "DEVdnekEhCud3tXHZRxB9SuaxxNw0BFY5weZMFa5gwAAANMBnslqQr8B0bFJ1WJHaSLGgAQ6LW52\n",
       "3dgtMgxhT/VsetAT8hoHNoo/a+0gV5MU9w/qNTe9TbDAICt7quhJJJJ0AwinWdPF1yjMdYYc7edl\n",
       "7cHxm4O0Pswxij6kNFHY3CkItrl9uT4RVDFN1H0FltamJ6IHdx6BtOOg0TC+qOTaLPcHLIrQQ8U1\n",
       "eNrHLatyrUlVZRbkytjJGiWLfbyBrPsgWRTY24tgjLeUI7IKHN9Mo/vOLiSce7+hM9RGMM4cymeq\n",
       "ildEoK3Drz5w4wu/gvBd8E9BAAADlm1vb3YAAABsbXZoZAAAAAAAAAAAAAAAAAAAA+gAAAImAAEA\n",
       "AAEAAAAAAAAAAAAAAAABAAAAAAAAAAAAAAAAAAAAAQAAAAAAAAAAAAAAAAAAQAAAAAAAAAAAAAAA\n",
       "AAAAAAAAAAAAAAAAAAAAAAAAAAIAAALAdHJhawAAAFx0a2hkAAAAAwAAAAAAAAAAAAAAAQAAAAAA\n",
       "AAImAAAAAAAAAAAAAAAAAAAAAAABAAAAAAAAAAAAAAAAAAAAAQAAAAAAAAAAAAAAAAAAQAAAAAGw\n",
       "AAABIAAAAAAAJGVkdHMAAAAcZWxzdAAAAAAAAAABAAACJgAABAAAAQAAAAACOG1kaWEAAAAgbWRo\n",
       "ZAAAAAAAAAAAAAAAAAAAKAAAABYAVcQAAAAAAC1oZGxyAAAAAAAAAAB2aWRlAAAAAAAAAAAAAAAA\n",
       "VmlkZW9IYW5kbGVyAAAAAeNtaW5mAAAAFHZtaGQAAAABAAAAAAAAAAAAAAAkZGluZgAAABxkcmVm\n",
       "AAAAAAAAAAEAAAAMdXJsIAAAAAEAAAGjc3RibAAAAJdzdHNkAAAAAAAAAAEAAACHYXZjMQAAAAAA\n",
       "AAABAAAAAAAAAAAAAAAAAAAAAAGwASAASAAAAEgAAAAAAAAAAQAAAAAAAAAAAAAAAAAAAAAAAAAA\n",
       "AAAAAAAAAAAAAAAAABj//wAAADFhdmNDAWQAFf/hABhnZAAVrNlBsJaEAAADAAQAAAMAoDxYtlgB\n",
       "AAZo6+PLIsAAAAAYc3R0cwAAAAAAAAABAAAACwAAAgAAAAAUc3RzcwAAAAAAAAABAAAAAQAAAGhj\n",
       "dHRzAAAAAAAAAAsAAAABAAAEAAAAAAEAAAoAAAAAAQAABAAAAAABAAAAAAAAAAEAAAIAAAAAAQAA\n",
       "CgAAAAABAAAEAAAAAAEAAAAAAAAAAQAAAgAAAAABAAAGAAAAAAEAAAIAAAAAHHN0c2MAAAAAAAAA\n",
       "AQAAAAEAAAALAAAAAQAAAEBzdHN6AAAAAAAAAAAAAAALAAAhbwAAAeEAAAEcAAABFAAAAQYAAAEA\n",
       "AAABAQAAAMUAAADnAAAAtQAAANcAAAAUc3RjbwAAAAAAAAABAAAAMAAAAGJ1ZHRhAAAAWm1ldGEA\n",
       "AAAAAAAAIWhkbHIAAAAAAAAAAG1kaXJhcHBsAAAAAAAAAAAAAAAALWlsc3QAAAAlqXRvbwAAAB1k\n",
       "YXRhAAAAAQAAAABMYXZmNTcuODMuMTAw\n",
       "\" type=\"video/mp4\">\n",
       " Your browser does not support the video tag.\n",
       "</video>"
      ],
      "text/plain": [
       "<matplotlib.animation.FuncAnimation at 0x7f6776d55ad0>"
      ]
     },
     "execution_count": 10,
     "metadata": {},
     "output_type": "execute_result"
    },
    {
     "data": {
      "image/png": "[encoded data removed]",
      "text/plain": [
       "<matplotlib.figure.Figure at 0x7f677a68db90>"
      ]
     },
     "metadata": {},
     "output_type": "display_data"
    }
   ],
   "source": [
    "b.animate(times=np.linspace(0,1,11))"
   ]
  },
  {
   "cell_type": "code",
   "execution_count": null,
   "metadata": {},
   "outputs": [],
   "source": []
  }
 ],
 "metadata": {
  "kernelspec": {
   "display_name": "Python 2",
   "language": "python",
   "name": "python2"
  },
  "language_info": {
   "codemirror_mode": {
    "name": "ipython",
    "version": 2
   },
   "file_extension": ".py",
   "mimetype": "text/x-python",
   "name": "python",
   "nbconvert_exporter": "python",
   "pygments_lexer": "ipython2",
   "version": "2.7.15rc1"
  }
 },
 "nbformat": 4,
 "nbformat_minor": 2
}
