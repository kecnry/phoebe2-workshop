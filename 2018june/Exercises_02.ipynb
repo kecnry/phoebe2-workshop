{
 "cells": [
  {
   "cell_type": "markdown",
   "metadata": {},
   "source": [
    "These exercises are designed to be done anytime after Tutorial #10 (meshes)"
   ]
  },
  {
   "cell_type": "markdown",
   "metadata": {},
   "source": [
    "# \\# 1\n",
    "\n",
    "Try to make a plot/animation that illustrates the Rossiter-McLaughlin effect (i.e. show the RVs plotted as color on the meshes during eclipse as well as the synthetic RVs vs time).\n",
    "\n",
    "Hints: \n",
    "* you may be able to get a more exagerated example by changing certain Parameters of the system.\n",
    "* try only sampling from just before ingress to just after egress\n"
   ]
  },
  {
   "cell_type": "code",
   "execution_count": null,
   "metadata": {},
   "outputs": [],
   "source": []
  },
  {
   "cell_type": "markdown",
   "metadata": {},
   "source": [
    "# \\# 2\n",
    "\n",
    "Take the same system you used above, and re-rerun the computations and plot/animation with rv_method='dynamical'.\n",
    "\n",
    "Hints:\n",
    "* the 'rvs' won't be available in the mesh anymore, so either add/plot a different dataset, use 'vzs' instead, or skip plotting the 'rvs' on the mesh."
   ]
  },
  {
   "cell_type": "code",
   "execution_count": null,
   "metadata": {},
   "outputs": [],
   "source": []
  }
 ],
 "metadata": {
  "kernelspec": {
   "display_name": "Python 2",
   "language": "python",
   "name": "python2"
  },
  "language_info": {
   "codemirror_mode": {
    "name": "ipython",
    "version": 2
   },
   "file_extension": ".py",
   "mimetype": "text/x-python",
   "name": "python",
   "nbconvert_exporter": "python",
   "pygments_lexer": "ipython2",
   "version": "2.7.15rc1"
  }
 },
 "nbformat": 4,
 "nbformat_minor": 2
}
