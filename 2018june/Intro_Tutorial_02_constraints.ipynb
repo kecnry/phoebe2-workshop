{
 "cells": [
  {
   "cell_type": "markdown",
   "metadata": {},
   "source": [
    "In this tutorial we will learn about constraints between Parameters and the default parameterization of a binary system."
   ]
  },
  {
   "cell_type": "markdown",
   "metadata": {},
   "source": [
    "# Setup"
   ]
  },
  {
   "cell_type": "code",
   "execution_count": 1,
   "metadata": {},
   "outputs": [
    {
     "name": "stderr",
     "output_type": "stream",
     "text": [
      "/usr/lib/python2.7/dist-packages/matplotlib/cbook/deprecation.py:106: MatplotlibDeprecationWarning: The mpl_toolkits.axes_grid module was deprecated in version 2.1. Use mpl_toolkits.axes_grid1 and mpl_toolkits.axisartist provies the same functionality instead.\n",
      "  warnings.warn(message, mplDeprecation, stacklevel=1)\n"
     ]
    }
   ],
   "source": [
    "import phoebe\n",
    "from phoebe import u,c\n",
    "\n",
    "import numpy as np\n",
    "import matplotlib.pyplot as plt"
   ]
  },
  {
   "cell_type": "code",
   "execution_count": 2,
   "metadata": {},
   "outputs": [],
   "source": [
    "logger = phoebe.logger(clevel='WARNING')"
   ]
  },
  {
   "cell_type": "code",
   "execution_count": 3,
   "metadata": {},
   "outputs": [],
   "source": [
    "b = phoebe.default_binary()"
   ]
  },
  {
   "cell_type": "markdown",
   "metadata": {},
   "source": [
    "# Constraints"
   ]
  },
  {
   "cell_type": "markdown",
   "metadata": {},
   "source": [
    "As we saw in the last exercise, there are 5 Parameters with a qualifier of 'incl'."
   ]
  },
  {
   "cell_type": "code",
   "execution_count": 4,
   "metadata": {},
   "outputs": [
    {
     "name": "stdout",
     "output_type": "stream",
     "text": [
      "ParameterSet: 5 parameters\n",
      "*         incl@primary@component: 90.0 deg\n",
      "*       incl@secondary@component: 90.0 deg\n",
      "           incl@binary@component: 90.0 deg\n",
      "         incl@primary@constraint: {incl@binary@component}\n",
      "       incl@secondary@constraint: {incl@binary@component}\n"
     ]
    }
   ],
   "source": [
    "print b.filter(qualifier='incl')"
   ]
  },
  {
   "cell_type": "markdown",
   "metadata": {},
   "source": [
    "Note that here the previously-mentioned twig-syntax is shown to show as much information as possible about the Parameters."
   ]
  },
  {
   "cell_type": "markdown",
   "metadata": {},
   "source": [
    "Three of these are because there are inclinations defined for the orbit as well as each of the two stars ('primary' and 'secondary').  These three Parameters all have context='component'."
   ]
  },
  {
   "cell_type": "code",
   "execution_count": 5,
   "metadata": {},
   "outputs": [
    {
     "name": "stdout",
     "output_type": "stream",
     "text": [
      "ParameterSet: 3 parameters\n",
      "*         incl@primary@component: 90.0 deg\n",
      "*       incl@secondary@component: 90.0 deg\n",
      "           incl@binary@component: 90.0 deg\n"
     ]
    }
   ],
   "source": [
    "print b.filter(qualifier='incl', context='component')"
   ]
  },
  {
   "cell_type": "markdown",
   "metadata": {},
   "source": [
    "The other inclinations of the stars are (by default) *constrained* to be the same as the inclination of the orbit (i.e., an aligned system).  We can see this by the \\*s in the output (to the left of the twigs) above as well as by accessing the 'constrained_by' attribute of the Parameter (attempting to call set_value will also raise an error)."
   ]
  },
  {
   "cell_type": "code",
   "execution_count": 6,
   "metadata": {},
   "outputs": [
    {
     "data": {
      "text/plain": [
       "[<Parameter: incl=90.0 deg | keys: description, value, quantity, default_unit, limits, visible_if, copy_for>]"
      ]
     },
     "execution_count": 6,
     "metadata": {},
     "output_type": "execute_result"
    }
   ],
   "source": [
    "b.get_parameter(qualifier='incl', context='component', component='primary').constrained_by"
   ]
  },
  {
   "cell_type": "markdown",
   "metadata": {},
   "source": [
    "The other two Parameters with qualifier='incl' are the constraints themselves and have context='constraint'"
   ]
  },
  {
   "cell_type": "code",
   "execution_count": 7,
   "metadata": {},
   "outputs": [
    {
     "name": "stdout",
     "output_type": "stream",
     "text": [
      "ParameterSet: 2 parameters\n",
      "         incl@primary@constraint: {incl@binary@component}\n",
      "       incl@secondary@constraint: {incl@binary@component}\n"
     ]
    }
   ],
   "source": [
    "print b.filter(qualifier='incl', context='constraint')"
   ]
  },
  {
   "cell_type": "code",
   "execution_count": 8,
   "metadata": {},
   "outputs": [
    {
     "data": {
      "text/plain": [
       "<ConstraintParameter: {incl@primary@component} = {incl@binary@component} => 90.0 deg>"
      ]
     },
     "execution_count": 8,
     "metadata": {},
     "output_type": "execute_result"
    }
   ],
   "source": [
    "b.get_parameter(qualifier='incl', context='constraint', component='primary')"
   ]
  },
  {
   "cell_type": "markdown",
   "metadata": {},
   "source": [
    "Here we see that this is a simple constraint: the inclination of the primary star is being *constrained* to be exactly that of the inclination of the binary orbit.  If we change the inclination of the orbit, the inclinations of the 'primary' and 'secondary' stars will immediately update to reflect that change."
   ]
  },
  {
   "cell_type": "code",
   "execution_count": 9,
   "metadata": {},
   "outputs": [
    {
     "name": "stderr",
     "output_type": "stream",
     "text": [
      "Wed, 23 May 2018 11:05 PARAMETERS   WARNING misaligned orbits are not currently supported.\n",
      "Wed, 23 May 2018 11:05 PARAMETERS   WARNING misaligned orbits are not currently supported.\n"
     ]
    }
   ],
   "source": [
    "b.set_value(qualifier='incl', component='binary', value=80)"
   ]
  },
  {
   "cell_type": "markdown",
   "metadata": {},
   "source": [
    "**NOTE**: if a WARNING appears in the logger saying misaligned orbits are not currently supported, that is caused by the system checks running *before* the constraints have updated all the Parameters.  So long as the warning does not continue to be raised, they can usually be safely ignored."
   ]
  },
  {
   "cell_type": "code",
   "execution_count": 10,
   "metadata": {},
   "outputs": [
    {
     "name": "stdout",
     "output_type": "stream",
     "text": [
      "ParameterSet: 3 parameters\n",
      "*         incl@primary@component: 80.0 deg\n",
      "*       incl@secondary@component: 80.0 deg\n",
      "           incl@binary@component: 80.0 deg\n"
     ]
    }
   ],
   "source": [
    "print b.filter(qualifier='incl', context='component')"
   ]
  },
  {
   "cell_type": "markdown",
   "metadata": {},
   "source": [
    "Other constraints are a little more complicated."
   ]
  },
  {
   "cell_type": "code",
   "execution_count": 11,
   "metadata": {},
   "outputs": [
    {
     "data": {
      "text/plain": [
       "<ConstraintParameter: {asini@binary@component} = {sma@binary@component} * (sin({incl@binary@component})) => 5.21948109097 solRad>"
      ]
     },
     "execution_count": 11,
     "metadata": {},
     "output_type": "execute_result"
    }
   ],
   "source": [
    "b.get_parameter(qualifier='asini', context='constraint')"
   ]
  },
  {
   "cell_type": "code",
   "execution_count": 12,
   "metadata": {},
   "outputs": [
    {
     "name": "stdout",
     "output_type": "stream",
     "text": [
      "asini: 5.21948109097, sma: 5.3, incl: 80.0\n"
     ]
    }
   ],
   "source": [
    "print \"asini: {}, sma: {}, incl: {}\".format(\n",
    "    b.get_value(qualifier='asini', component='binary', context='component'),\n",
    "    b.get_value(qualifier='sma', component='binary', context='component'),\n",
    "    b.get_value(qualifier='incl', component='binary', context='component'))"
   ]
  },
  {
   "cell_type": "code",
   "execution_count": 13,
   "metadata": {},
   "outputs": [],
   "source": [
    "b.set_value(qualifier='sma', component='binary', context='component', value=10.0)"
   ]
  },
  {
   "cell_type": "code",
   "execution_count": 14,
   "metadata": {},
   "outputs": [
    {
     "name": "stdout",
     "output_type": "stream",
     "text": [
      "asini: 9.84807753013, sma: 10.0, incl: 80.0\n"
     ]
    }
   ],
   "source": [
    "print \"asini: {}, sma: {}, incl: {}\".format(\n",
    "    b.get_value(qualifier='asini', component='binary', context='component'),\n",
    "    b.get_value(qualifier='sma', component='binary', context='component'),\n",
    "    b.get_value(qualifier='incl', component='binary', context='component'))"
   ]
  },
  {
   "cell_type": "markdown",
   "metadata": {},
   "source": [
    "# Exercise"
   ]
  },
  {
   "cell_type": "markdown",
   "metadata": {},
   "source": [
    "Find and list all constraints in the default_binary Bundle"
   ]
  },
  {
   "cell_type": "code",
   "execution_count": null,
   "metadata": {},
   "outputs": [],
   "source": []
  },
  {
   "cell_type": "markdown",
   "metadata": {},
   "source": [
    "The mass of each star is a constrained Parameter.  Try setting the value of the mass (you should get an error, do **not** try to change the value of the constraint itself).  Then find what it depends on, vary those Parameters, and print the resulting value of the mass."
   ]
  },
  {
   "cell_type": "code",
   "execution_count": null,
   "metadata": {},
   "outputs": [],
   "source": []
  },
  {
   "cell_type": "markdown",
   "metadata": {},
   "source": [
    "How q is defined: is it Mprimary/Msecondary or Msecondary/Mprimary?\n",
    "\n",
    "Hint: there are (at least) 2 ways to do this.  Try first by looking through the equations of the constraints if you feel a bit daring.  You can also change the value of q and see how the resulting constrained masses react."
   ]
  },
  {
   "cell_type": "code",
   "execution_count": null,
   "metadata": {},
   "outputs": [],
   "source": []
  }
 ],
 "metadata": {
  "kernelspec": {
   "display_name": "Python 2",
   "language": "python",
   "name": "python2"
  },
  "language_info": {
   "codemirror_mode": {
    "name": "ipython",
    "version": 2
   },
   "file_extension": ".py",
   "mimetype": "text/x-python",
   "name": "python",
   "nbconvert_exporter": "python",
   "pygments_lexer": "ipython2",
   "version": "2.7.15rc1"
  }
 },
 "nbformat": 4,
 "nbformat_minor": 2
}
